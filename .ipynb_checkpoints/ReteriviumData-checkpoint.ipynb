{
 "cells": [
  {
   "cell_type": "code",
   "execution_count": 1,
   "id": "bdb26017-5482-4844-85b8-ccd51373e8b5",
   "metadata": {},
   "outputs": [],
   "source": [
    "from RetrieviumData import *"
   ]
  },
  {
   "cell_type": "code",
   "execution_count": 4,
   "id": "0c782900-7e3f-4e59-bb8c-e0c8616f029b",
   "metadata": {},
   "outputs": [
    {
     "name": "stderr",
     "output_type": "stream",
     "text": [
      "100%|██████████| 167/167 [00:02<00:00, 77.99it/s] \n",
      "100%|██████████| 167/167 [00:20<00:00,  8.15it/s]\n"
     ]
    },
    {
     "name": "stdout",
     "output_type": "stream",
     "text": [
      "Wall time: 26.2 s\n"
     ]
    }
   ],
   "source": [
    "%%time\n",
    "main()"
   ]
  },
  {
   "cell_type": "code",
   "execution_count": 10,
   "id": "a7bf66a8-387b-4110-91d0-41894d94ec0f",
   "metadata": {},
   "outputs": [],
   "source": [
    "from main import real_main"
   ]
  },
  {
   "cell_type": "code",
   "execution_count": 11,
   "id": "5dc2044f-f467-45c2-a15a-154bed5a6f7e",
   "metadata": {},
   "outputs": [
    {
     "name": "stderr",
     "output_type": "stream",
     "text": [
      "100%|██████████| 500/500 [00:27<00:00, 18.04it/s]\n",
      "100%|██████████| 167/167 [01:56<00:00,  1.43it/s]\n"
     ]
    },
    {
     "name": "stdout",
     "output_type": "stream",
     "text": [
      "Wall time: 2min 27s\n"
     ]
    }
   ],
   "source": [
    "%%time\n",
    "real_main()"
   ]
  },
  {
   "cell_type": "code",
   "execution_count": 12,
   "id": "8966e23f-2fda-4423-ac73-894d8006de8f",
   "metadata": {},
   "outputs": [
    {
     "data": {
      "text/plain": [
       "0.8163265306122449"
      ]
     },
     "execution_count": 12,
     "metadata": {},
     "output_type": "execute_result"
    }
   ],
   "source": [
    "120 / 147"
   ]
  },
  {
   "cell_type": "code",
   "execution_count": null,
   "id": "65aab100-3047-4a17-a233-9d3f10e91ac1",
   "metadata": {},
   "outputs": [],
   "source": []
  }
 ],
 "metadata": {
  "kernelspec": {
   "display_name": "Python 3 (ipykernel)",
   "language": "python",
   "name": "python3"
  },
  "language_info": {
   "codemirror_mode": {
    "name": "ipython",
    "version": 3
   },
   "file_extension": ".py",
   "mimetype": "text/x-python",
   "name": "python",
   "nbconvert_exporter": "python",
   "pygments_lexer": "ipython3",
   "version": "3.8.12"
  }
 },
 "nbformat": 4,
 "nbformat_minor": 5
}
